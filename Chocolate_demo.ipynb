{
 "cells": [
  {
   "cell_type": "markdown",
   "id": "54ef52dd",
   "metadata": {},
   "source": [
    "# What  Makes Great Chocolate?"
   ]
  },
  {
   "cell_type": "markdown",
   "id": "dd1e1311",
   "metadata": {},
   "source": [
    "### By Yi Cheng"
   ]
  },
  {
   "cell_type": "markdown",
   "id": "72342848",
   "metadata": {},
   "source": [
    "![image info](https://www.foodsafetynews.com/files/2021/05/dreamstime_chocolate-cocoa-confectionery.jpg)\n"
   ]
  },
  {
   "cell_type": "markdown",
   "id": "92ace0a8",
   "metadata": {},
   "source": [
    "## Introduction"
   ]
  },
  {
   "cell_type": "markdown",
   "id": "d3726ed1",
   "metadata": {},
   "source": [
    "In this project, I am going to use the Chocolate Bar Rating dataset from Kaggle: https://www.kaggle.com/rtatman/chocolate-bar-ratings to answer 3 data questions by exploring the data. The process can be broken down into 3 steps:\n",
    "1. Business Understanding\n",
    "2. Prepare Data\n",
    "3. Analyze, Visualize and Interpret Insights\n",
    "\n"
   ]
  },
  {
   "cell_type": "markdown",
   "id": "9031dfa3",
   "metadata": {},
   "source": [
    "## 1. Business Understanding"
   ]
  },
  {
   "cell_type": "markdown",
   "id": "3fd018f3",
   "metadata": {},
   "source": [
    "Chocolate is one of the most popular candies in the world. Often I ask myself, what's the secret of tasting chocolate? I came across with the Chocolate Rating Bar dataset in Kaggle and decided to take a deep look.\n",
    "This dataset contains expert ratings of over 1,700 individual chocolate bars, along with information on their regional origin, percentage of cocoa, the variety of chocolate bean used and where the beans were grown. The database is narrowly focused on plain dark chocolate with an aim of appreciating the flavors of the cacao when made into chocolate. \n",
    "\n",
    "Rating System:  \n",
    "  5 = Elite (Transcending beyond the ordinary limits)  \n",
    "  4 = Premium (Superior flavor development, character and style)  \n",
    "  3 = Satisfactory(3.0) to praiseworthy(3.75) (well made with special qualities)  \n",
    "  2 = Disappointing (Passable but contains at least one significant flaw)  \n",
    "  1 = Unpleasant (mostly unpalatable)  \n",
    "  \n",
    "Below are the questions come into my mind:  \n",
    "  1. Does higher cocoa percentage associated with higher rating? \n",
    "  2. Which company location has the best chocolate rating?\n",
    "  3. Which types of cocoa beans produce the highest rating chocolate?"
   ]
  },
  {
   "cell_type": "markdown",
   "id": "8e306a05",
   "metadata": {},
   "source": [
    "## 2. Prepare Data"
   ]
  },
  {
   "cell_type": "code",
   "execution_count": 2,
   "id": "46974af7",
   "metadata": {},
   "outputs": [],
   "source": [
    "# import the necessary libraries \n",
    "import pandas as pd\n",
    "import numpy as np\n",
    "import matplotlib.pyplot as plt\n",
    "import seaborn as sns\n",
    "sns.set()"
   ]
  },
  {
   "cell_type": "code",
   "execution_count": 6,
   "id": "abd23f5f",
   "metadata": {},
   "outputs": [],
   "source": [
    "# import dataset\n",
    "df = pd.read_csv('/Users/chengyi/ChocolateBar/flavors_of_cacao.csv')"
   ]
  },
  {
   "cell_type": "code",
   "execution_count": 7,
   "id": "d92efa7f",
   "metadata": {},
   "outputs": [
    {
     "data": {
      "text/html": [
       "<div>\n",
       "<style scoped>\n",
       "    .dataframe tbody tr th:only-of-type {\n",
       "        vertical-align: middle;\n",
       "    }\n",
       "\n",
       "    .dataframe tbody tr th {\n",
       "        vertical-align: top;\n",
       "    }\n",
       "\n",
       "    .dataframe thead th {\n",
       "        text-align: right;\n",
       "    }\n",
       "</style>\n",
       "<table border=\"1\" class=\"dataframe\">\n",
       "  <thead>\n",
       "    <tr style=\"text-align: right;\">\n",
       "      <th></th>\n",
       "      <th>Company \\n(Maker-if known)</th>\n",
       "      <th>Specific Bean Origin\\nor Bar Name</th>\n",
       "      <th>REF</th>\n",
       "      <th>Review\\nDate</th>\n",
       "      <th>Cocoa\\nPercent</th>\n",
       "      <th>Company\\nLocation</th>\n",
       "      <th>Rating</th>\n",
       "      <th>Bean\\nType</th>\n",
       "      <th>Broad Bean\\nOrigin</th>\n",
       "    </tr>\n",
       "  </thead>\n",
       "  <tbody>\n",
       "    <tr>\n",
       "      <th>0</th>\n",
       "      <td>A. Morin</td>\n",
       "      <td>Agua Grande</td>\n",
       "      <td>1876</td>\n",
       "      <td>2016</td>\n",
       "      <td>63%</td>\n",
       "      <td>France</td>\n",
       "      <td>3.75</td>\n",
       "      <td></td>\n",
       "      <td>Sao Tome</td>\n",
       "    </tr>\n",
       "    <tr>\n",
       "      <th>1</th>\n",
       "      <td>A. Morin</td>\n",
       "      <td>Kpime</td>\n",
       "      <td>1676</td>\n",
       "      <td>2015</td>\n",
       "      <td>70%</td>\n",
       "      <td>France</td>\n",
       "      <td>2.75</td>\n",
       "      <td></td>\n",
       "      <td>Togo</td>\n",
       "    </tr>\n",
       "    <tr>\n",
       "      <th>2</th>\n",
       "      <td>A. Morin</td>\n",
       "      <td>Atsane</td>\n",
       "      <td>1676</td>\n",
       "      <td>2015</td>\n",
       "      <td>70%</td>\n",
       "      <td>France</td>\n",
       "      <td>3.00</td>\n",
       "      <td></td>\n",
       "      <td>Togo</td>\n",
       "    </tr>\n",
       "    <tr>\n",
       "      <th>3</th>\n",
       "      <td>A. Morin</td>\n",
       "      <td>Akata</td>\n",
       "      <td>1680</td>\n",
       "      <td>2015</td>\n",
       "      <td>70%</td>\n",
       "      <td>France</td>\n",
       "      <td>3.50</td>\n",
       "      <td></td>\n",
       "      <td>Togo</td>\n",
       "    </tr>\n",
       "    <tr>\n",
       "      <th>4</th>\n",
       "      <td>A. Morin</td>\n",
       "      <td>Quilla</td>\n",
       "      <td>1704</td>\n",
       "      <td>2015</td>\n",
       "      <td>70%</td>\n",
       "      <td>France</td>\n",
       "      <td>3.50</td>\n",
       "      <td></td>\n",
       "      <td>Peru</td>\n",
       "    </tr>\n",
       "  </tbody>\n",
       "</table>\n",
       "</div>"
      ],
      "text/plain": [
       "  Company \\n(Maker-if known) Specific Bean Origin\\nor Bar Name   REF  \\\n",
       "0                   A. Morin                       Agua Grande  1876   \n",
       "1                   A. Morin                             Kpime  1676   \n",
       "2                   A. Morin                            Atsane  1676   \n",
       "3                   A. Morin                             Akata  1680   \n",
       "4                   A. Morin                            Quilla  1704   \n",
       "\n",
       "   Review\\nDate Cocoa\\nPercent Company\\nLocation  Rating Bean\\nType  \\\n",
       "0          2016            63%            France    3.75              \n",
       "1          2015            70%            France    2.75              \n",
       "2          2015            70%            France    3.00              \n",
       "3          2015            70%            France    3.50              \n",
       "4          2015            70%            France    3.50              \n",
       "\n",
       "  Broad Bean\\nOrigin  \n",
       "0           Sao Tome  \n",
       "1               Togo  \n",
       "2               Togo  \n",
       "3               Togo  \n",
       "4               Peru  "
      ]
     },
     "execution_count": 7,
     "metadata": {},
     "output_type": "execute_result"
    }
   ],
   "source": [
    "df.head(5)"
   ]
  },
  {
   "cell_type": "code",
   "execution_count": 8,
   "id": "c3d14358",
   "metadata": {},
   "outputs": [
    {
     "data": {
      "text/plain": [
       "Index(['Company', 'Bean_origin', 'Insert_dt', 'Review_year', 'Cocoa_percent',\n",
       "       'Location', 'Rating', 'Bean_type', 'Broad_origin'],\n",
       "      dtype='object')"
      ]
     },
     "execution_count": 8,
     "metadata": {},
     "output_type": "execute_result"
    }
   ],
   "source": [
    "# rename columns\n",
    "df = df.rename(columns = {'Company \\n(Maker-if known)': 'Company', \n",
    "                   'Specific Bean Origin\\nor Bar Name': 'Bean_origin',\n",
    "                   'REF': 'Insert_dt', \n",
    "                   'Review\\nDate': 'Review_year', \n",
    "                   'Cocoa\\nPercent': 'Cocoa_percent', \n",
    "                   'Company\\nLocation': 'Location', \n",
    "                   'Rating': 'Rating',\n",
    "                   'Bean\\nType': 'Bean_type', \n",
    "                   'Broad Bean\\nOrigin': 'Broad_origin'})\n",
    "df.columns.values[0] = 'Company'\n",
    "df.columns"
   ]
  },
  {
   "cell_type": "code",
   "execution_count": 9,
   "id": "62307788",
   "metadata": {},
   "outputs": [
    {
     "data": {
      "text/plain": [
       "(1795, 9)"
      ]
     },
     "execution_count": 9,
     "metadata": {},
     "output_type": "execute_result"
    }
   ],
   "source": [
    "df.shape"
   ]
  },
  {
   "cell_type": "markdown",
   "id": "acf4b3b8",
   "metadata": {},
   "source": [
    "### Data Columns"
   ]
  },
  {
   "cell_type": "markdown",
   "id": "6255b0e8",
   "metadata": {},
   "source": [
    "After renaming, we can clearly see 9 data columns in dataset:\n",
    "* Company: Name of the company manufacturing the bar.  \n",
    "* Bean_origin: The specific geo-region of origin for the bar.\n",
    "* Insert_dt: A value linked to when the review was entered in the database. Higher = more recent.\n",
    "* Review_year: Date of publication of the review.\n",
    "* Cocoa_percent: Cocoa percentage (darkness) of the chocolate bar being reviewed.\n",
    "* Location: Manufacturer base country.\n",
    "* Rating: Expert rating for the bar.\n",
    "* Bean_type: The variety (breed) of bean used, if provided.\n",
    "* Broad_origin: The broad geo-region of origin for the bean."
   ]
  },
  {
   "cell_type": "code",
   "execution_count": 10,
   "id": "ba7a4e0f",
   "metadata": {},
   "outputs": [
    {
     "name": "stdout",
     "output_type": "stream",
     "text": [
      "Company: nmiss: 0, nvoid: 0, pmiss: 0.000%\n",
      "Bean_origin: nmiss: 0, nvoid: 0, pmiss: 0.000%\n",
      "Location: nmiss: 0, nvoid: 0, pmiss: 0.000%\n",
      "Bean_type: nmiss: 1, nvoid: 887, pmiss: 0.056%\n",
      "Broad_origin: nmiss: 1, nvoid: 73, pmiss: 0.056%\n",
      "Insert_dt: nmiss: 0, pmiss: 0.000%\n",
      "Review_year: nmiss: 0, pmiss: 0.000%\n",
      "Cocoa_percent: nmiss: 0, pmiss: 0.000%\n",
      "Rating: nmiss: 0, pmiss: 0.000%\n"
     ]
    }
   ],
   "source": [
    " # convert string percent to numeric\n",
    "df['Cocoa_percent'] = df['Cocoa_percent'].str.replace(r'%', '').astype('float') / 100.0\n",
    "\n",
    " # check NA\n",
    "for col in df.select_dtypes(include = ['object']).columns:\n",
    "    nmiss = df[col].isnull().sum()\n",
    "    nvoid = df[df[col].str.strip() == ''].shape[0]\n",
    "    pmiss = df[col].isnull().sum() / len(df)\n",
    "    print(f'''{col}: nmiss: {nmiss}, nvoid: {nvoid}, pmiss: {pmiss:.3%}''')\n",
    "\n",
    "for col in df.select_dtypes(include = ['number']).columns:\n",
    "    nmiss = df[col].isnull().sum()\n",
    "    pmiss = df[col].isnull().sum() / len(df)\n",
    "    print(f'''{col}: nmiss: {nmiss}, pmiss: {pmiss:.3%}''')"
   ]
  },
  {
   "cell_type": "markdown",
   "id": "6793b35a",
   "metadata": {},
   "source": [
    "We will drop 1 observation with **Bean_type** missing. Although there are 887 observations with void value of **Bean_type** and 73 observations with void value of **Broad_origin**, we will not remove it for now due to data scarity."
   ]
  },
  {
   "cell_type": "code",
   "execution_count": 11,
   "id": "3b3563f2",
   "metadata": {},
   "outputs": [
    {
     "data": {
      "text/plain": [
       "0"
      ]
     },
     "execution_count": 11,
     "metadata": {},
     "output_type": "execute_result"
    }
   ],
   "source": [
    "# drop NA\n",
    "df = df.dropna(how = 'any')\n",
    "# check for duplicate rows\n",
    "sum(df.duplicated())"
   ]
  },
  {
   "cell_type": "code",
   "execution_count": 12,
   "id": "d04540fd",
   "metadata": {},
   "outputs": [
    {
     "name": "stdout",
     "output_type": "stream",
     "text": [
      "<class 'pandas.core.frame.DataFrame'>\n",
      "Int64Index: 1793 entries, 0 to 1794\n",
      "Data columns (total 9 columns):\n",
      " #   Column         Non-Null Count  Dtype  \n",
      "---  ------         --------------  -----  \n",
      " 0   Company        1793 non-null   object \n",
      " 1   Bean_origin    1793 non-null   object \n",
      " 2   Insert_dt      1793 non-null   int64  \n",
      " 3   Review_year    1793 non-null   int64  \n",
      " 4   Cocoa_percent  1793 non-null   float64\n",
      " 5   Location       1793 non-null   object \n",
      " 6   Rating         1793 non-null   float64\n",
      " 7   Bean_type      1793 non-null   object \n",
      " 8   Broad_origin   1793 non-null   object \n",
      "dtypes: float64(2), int64(2), object(5)\n",
      "memory usage: 140.1+ KB\n"
     ]
    }
   ],
   "source": [
    "df.info()"
   ]
  },
  {
   "cell_type": "markdown",
   "id": "d7426d41",
   "metadata": {},
   "source": [
    "### Take A Look At Data"
   ]
  },
  {
   "cell_type": "code",
   "execution_count": 13,
   "id": "65c84f3c",
   "metadata": {},
   "outputs": [
    {
     "data": {
      "text/html": [
       "<div>\n",
       "<style scoped>\n",
       "    .dataframe tbody tr th:only-of-type {\n",
       "        vertical-align: middle;\n",
       "    }\n",
       "\n",
       "    .dataframe tbody tr th {\n",
       "        vertical-align: top;\n",
       "    }\n",
       "\n",
       "    .dataframe thead th {\n",
       "        text-align: right;\n",
       "    }\n",
       "</style>\n",
       "<table border=\"1\" class=\"dataframe\">\n",
       "  <thead>\n",
       "    <tr style=\"text-align: right;\">\n",
       "      <th></th>\n",
       "      <th>Insert_dt</th>\n",
       "      <th>Review_year</th>\n",
       "      <th>Cocoa_percent</th>\n",
       "      <th>Rating</th>\n",
       "    </tr>\n",
       "  </thead>\n",
       "  <tbody>\n",
       "    <tr>\n",
       "      <th>count</th>\n",
       "      <td>1793.000000</td>\n",
       "      <td>1793.000000</td>\n",
       "      <td>1793.000000</td>\n",
       "      <td>1793.000000</td>\n",
       "    </tr>\n",
       "    <tr>\n",
       "      <th>mean</th>\n",
       "      <td>1036.126046</td>\n",
       "      <td>2012.326269</td>\n",
       "      <td>0.716991</td>\n",
       "      <td>3.185862</td>\n",
       "    </tr>\n",
       "    <tr>\n",
       "      <th>std</th>\n",
       "      <td>553.128742</td>\n",
       "      <td>2.928666</td>\n",
       "      <td>0.063265</td>\n",
       "      <td>0.477668</td>\n",
       "    </tr>\n",
       "    <tr>\n",
       "      <th>min</th>\n",
       "      <td>5.000000</td>\n",
       "      <td>2006.000000</td>\n",
       "      <td>0.420000</td>\n",
       "      <td>1.000000</td>\n",
       "    </tr>\n",
       "    <tr>\n",
       "      <th>25%</th>\n",
       "      <td>576.000000</td>\n",
       "      <td>2010.000000</td>\n",
       "      <td>0.700000</td>\n",
       "      <td>3.000000</td>\n",
       "    </tr>\n",
       "    <tr>\n",
       "      <th>50%</th>\n",
       "      <td>1073.000000</td>\n",
       "      <td>2013.000000</td>\n",
       "      <td>0.700000</td>\n",
       "      <td>3.250000</td>\n",
       "    </tr>\n",
       "    <tr>\n",
       "      <th>75%</th>\n",
       "      <td>1502.000000</td>\n",
       "      <td>2015.000000</td>\n",
       "      <td>0.750000</td>\n",
       "      <td>3.500000</td>\n",
       "    </tr>\n",
       "    <tr>\n",
       "      <th>max</th>\n",
       "      <td>1952.000000</td>\n",
       "      <td>2017.000000</td>\n",
       "      <td>1.000000</td>\n",
       "      <td>5.000000</td>\n",
       "    </tr>\n",
       "  </tbody>\n",
       "</table>\n",
       "</div>"
      ],
      "text/plain": [
       "         Insert_dt  Review_year  Cocoa_percent       Rating\n",
       "count  1793.000000  1793.000000    1793.000000  1793.000000\n",
       "mean   1036.126046  2012.326269       0.716991     3.185862\n",
       "std     553.128742     2.928666       0.063265     0.477668\n",
       "min       5.000000  2006.000000       0.420000     1.000000\n",
       "25%     576.000000  2010.000000       0.700000     3.000000\n",
       "50%    1073.000000  2013.000000       0.700000     3.250000\n",
       "75%    1502.000000  2015.000000       0.750000     3.500000\n",
       "max    1952.000000  2017.000000       1.000000     5.000000"
      ]
     },
     "execution_count": 13,
     "metadata": {},
     "output_type": "execute_result"
    }
   ],
   "source": [
    "# Numeric Data\n",
    "df.describe(include = np.number)"
   ]
  },
  {
   "cell_type": "code",
   "execution_count": 14,
   "id": "0e637f32",
   "metadata": {},
   "outputs": [
    {
     "data": {
      "image/png": "[encoded data removed]",
      "text/plain": [
       "<Figure size 576x576 with 4 Axes>"
      ]
     },
     "metadata": {},
     "output_type": "display_data"
    }
   ],
   "source": [
    "# plot the distribution of numeric data\n",
    "fig, axes = plt.subplots(2, 2, figsize = (8, 8))\n",
    "fig.suptitle('Numberic Vars')\n",
    "\n",
    "sns.histplot(ax = axes[0,0], data = df, x = \"Insert_dt\")\n",
    "sns.histplot(ax = axes[0,1], data = df, x = \"Review_year\", bins = 12)\n",
    "sns.histplot(ax = axes[1,0], data = df, x = \"Cocoa_percent\")\n",
    "sns.histplot(ax = axes[1,1], data = df, x = \"Rating\")\n",
    "plt.show()"
   ]
  },
  {
   "cell_type": "code",
   "execution_count": 15,
   "id": "d7f54289",
   "metadata": {},
   "outputs": [
    {
     "data": {
      "text/html": [
       "<div>\n",
       "<style scoped>\n",
       "    .dataframe tbody tr th:only-of-type {\n",
       "        vertical-align: middle;\n",
       "    }\n",
       "\n",
       "    .dataframe tbody tr th {\n",
       "        vertical-align: top;\n",
       "    }\n",
       "\n",
       "    .dataframe thead th {\n",
       "        text-align: right;\n",
       "    }\n",
       "</style>\n",
       "<table border=\"1\" class=\"dataframe\">\n",
       "  <thead>\n",
       "    <tr style=\"text-align: right;\">\n",
       "      <th></th>\n",
       "      <th>Company</th>\n",
       "      <th>Bean_origin</th>\n",
       "      <th>Location</th>\n",
       "      <th>Bean_type</th>\n",
       "      <th>Broad_origin</th>\n",
       "    </tr>\n",
       "  </thead>\n",
       "  <tbody>\n",
       "    <tr>\n",
       "      <th>count</th>\n",
       "      <td>1793</td>\n",
       "      <td>1793</td>\n",
       "      <td>1793</td>\n",
       "      <td>1793</td>\n",
       "      <td>1793</td>\n",
       "    </tr>\n",
       "    <tr>\n",
       "      <th>unique</th>\n",
       "      <td>416</td>\n",
       "      <td>1038</td>\n",
       "      <td>60</td>\n",
       "      <td>41</td>\n",
       "      <td>99</td>\n",
       "    </tr>\n",
       "    <tr>\n",
       "      <th>top</th>\n",
       "      <td>Soma</td>\n",
       "      <td>Madagascar</td>\n",
       "      <td>U.S.A.</td>\n",
       "      <td></td>\n",
       "      <td>Venezuela</td>\n",
       "    </tr>\n",
       "    <tr>\n",
       "      <th>freq</th>\n",
       "      <td>46</td>\n",
       "      <td>56</td>\n",
       "      <td>763</td>\n",
       "      <td>887</td>\n",
       "      <td>214</td>\n",
       "    </tr>\n",
       "  </tbody>\n",
       "</table>\n",
       "</div>"
      ],
      "text/plain": [
       "       Company Bean_origin Location Bean_type Broad_origin\n",
       "count     1793        1793     1793      1793         1793\n",
       "unique     416        1038       60        41           99\n",
       "top       Soma  Madagascar   U.S.A.              Venezuela\n",
       "freq        46          56      763       887          214"
      ]
     },
     "execution_count": 15,
     "metadata": {},
     "output_type": "execute_result"
    }
   ],
   "source": [
    "# Categorical Data\n",
    "#df.describe(include=np.object)\n",
    "df.describe(include = ['O'])"
   ]
  },
  {
   "cell_type": "markdown",
   "id": "e0977f0e",
   "metadata": {},
   "source": [
    "## 3. Analyze, Visualize and Interpret Insights"
   ]
  },
  {
   "cell_type": "markdown",
   "id": "ea4ca1f4",
   "metadata": {},
   "source": [
    "### Question 1. Does higher cocoa percentage associated with higher rating? "
   ]
  },
  {
   "cell_type": "markdown",
   "id": "0ee80c28",
   "metadata": {},
   "source": [
    "The dataset tends to be time-dependent as it contains bar ratings from 2006 to 2017. Therefore, before dive deep into column **Cocoa_percent** and **Rating**, it is intuitive to check if levels of rating/Cocoa percentage are stable over time (i.e., across **Review years**).\n",
    "\n",
    "From the plots below, we can see that rating increases slightly over year but remain between 3.0 and 3.5. On the other hand, percentage of cocoa also shows a slight increase trend with average value remain between 0.7 and 0.73. We can conclude that **Cocoa_percent** and **Rating** are stable over time."
   ]
  },
  {
   "cell_type": "code",
   "execution_count": 16,
   "id": "2db0142b",
   "metadata": {},
   "outputs": [
    {
     "data": {
      "image/png": "[encoded data removed]",
      "text/plain": [
       "<Figure size 432x288 with 1 Axes>"
      ]
     },
     "metadata": {},
     "output_type": "display_data"
    }
   ],
   "source": [
    "sns.boxplot(x = \"Review_year\", y = \"Rating\", data = df);"
   ]
  },
  {
   "cell_type": "code",
   "execution_count": 17,
   "id": "41a9e2c0",
   "metadata": {},
   "outputs": [
    {
     "data": {
      "image/png": "[encoded data removed]",
      "text/plain": [
       "<Figure size 432x288 with 1 Axes>"
      ]
     },
     "metadata": {},
     "output_type": "display_data"
    }
   ],
   "source": [
    "sns.boxplot(x = \"Review_year\", y = \"Cocoa_percent\", data = df); # Also increasing."
   ]
  },
  {
   "cell_type": "code",
   "execution_count": 18,
   "id": "e02aea4d",
   "metadata": {},
   "outputs": [
    {
     "data": {
      "text/html": [
       "<div>\n",
       "<style scoped>\n",
       "    .dataframe tbody tr th:only-of-type {\n",
       "        vertical-align: middle;\n",
       "    }\n",
       "\n",
       "    .dataframe tbody tr th {\n",
       "        vertical-align: top;\n",
       "    }\n",
       "\n",
       "    .dataframe thead th {\n",
       "        text-align: right;\n",
       "    }\n",
       "</style>\n",
       "<table border=\"1\" class=\"dataframe\">\n",
       "  <thead>\n",
       "    <tr style=\"text-align: right;\">\n",
       "      <th></th>\n",
       "      <th>Cocoa_percent</th>\n",
       "      <th>Rating</th>\n",
       "    </tr>\n",
       "    <tr>\n",
       "      <th>Review_year</th>\n",
       "      <th></th>\n",
       "      <th></th>\n",
       "    </tr>\n",
       "  </thead>\n",
       "  <tbody>\n",
       "    <tr>\n",
       "      <th>2006</th>\n",
       "      <td>0.710000</td>\n",
       "      <td>3.125000</td>\n",
       "    </tr>\n",
       "    <tr>\n",
       "      <th>2007</th>\n",
       "      <td>0.720390</td>\n",
       "      <td>3.162338</td>\n",
       "    </tr>\n",
       "    <tr>\n",
       "      <th>2008</th>\n",
       "      <td>0.726989</td>\n",
       "      <td>2.994624</td>\n",
       "    </tr>\n",
       "    <tr>\n",
       "      <th>2009</th>\n",
       "      <td>0.704431</td>\n",
       "      <td>3.073171</td>\n",
       "    </tr>\n",
       "    <tr>\n",
       "      <th>2010</th>\n",
       "      <td>0.707793</td>\n",
       "      <td>3.148649</td>\n",
       "    </tr>\n",
       "    <tr>\n",
       "      <th>2011</th>\n",
       "      <td>0.709756</td>\n",
       "      <td>3.251524</td>\n",
       "    </tr>\n",
       "    <tr>\n",
       "      <th>2012</th>\n",
       "      <td>0.715258</td>\n",
       "      <td>3.181701</td>\n",
       "    </tr>\n",
       "    <tr>\n",
       "      <th>2013</th>\n",
       "      <td>0.722663</td>\n",
       "      <td>3.197011</td>\n",
       "    </tr>\n",
       "    <tr>\n",
       "      <th>2014</th>\n",
       "      <td>0.722530</td>\n",
       "      <td>3.189271</td>\n",
       "    </tr>\n",
       "    <tr>\n",
       "      <th>2015</th>\n",
       "      <td>0.720140</td>\n",
       "      <td>3.246491</td>\n",
       "    </tr>\n",
       "    <tr>\n",
       "      <th>2016</th>\n",
       "      <td>0.717580</td>\n",
       "      <td>3.226027</td>\n",
       "    </tr>\n",
       "    <tr>\n",
       "      <th>2017</th>\n",
       "      <td>0.715417</td>\n",
       "      <td>3.312500</td>\n",
       "    </tr>\n",
       "  </tbody>\n",
       "</table>\n",
       "</div>"
      ],
      "text/plain": [
       "             Cocoa_percent    Rating\n",
       "Review_year                         \n",
       "2006              0.710000  3.125000\n",
       "2007              0.720390  3.162338\n",
       "2008              0.726989  2.994624\n",
       "2009              0.704431  3.073171\n",
       "2010              0.707793  3.148649\n",
       "2011              0.709756  3.251524\n",
       "2012              0.715258  3.181701\n",
       "2013              0.722663  3.197011\n",
       "2014              0.722530  3.189271\n",
       "2015              0.720140  3.246491\n",
       "2016              0.717580  3.226027\n",
       "2017              0.715417  3.312500"
      ]
     },
     "execution_count": 18,
     "metadata": {},
     "output_type": "execute_result"
    }
   ],
   "source": [
    "df.groupby('Review_year')[['Cocoa_percent', 'Rating']].mean()"
   ]
  },
  {
   "cell_type": "code",
   "execution_count": 19,
   "id": "66dc30e4",
   "metadata": {},
   "outputs": [
    {
     "data": {
      "text/html": [
       "<div>\n",
       "<style scoped>\n",
       "    .dataframe tbody tr th:only-of-type {\n",
       "        vertical-align: middle;\n",
       "    }\n",
       "\n",
       "    .dataframe tbody tr th {\n",
       "        vertical-align: top;\n",
       "    }\n",
       "\n",
       "    .dataframe thead th {\n",
       "        text-align: right;\n",
       "    }\n",
       "</style>\n",
       "<table border=\"1\" class=\"dataframe\">\n",
       "  <thead>\n",
       "    <tr style=\"text-align: right;\">\n",
       "      <th></th>\n",
       "      <th>mean</th>\n",
       "      <th>median</th>\n",
       "      <th>count</th>\n",
       "    </tr>\n",
       "    <tr>\n",
       "      <th>Rating</th>\n",
       "      <th></th>\n",
       "      <th></th>\n",
       "      <th></th>\n",
       "    </tr>\n",
       "  </thead>\n",
       "  <tbody>\n",
       "    <tr>\n",
       "      <th>5.00</th>\n",
       "      <td>0.700000</td>\n",
       "      <td>0.700</td>\n",
       "      <td>2</td>\n",
       "    </tr>\n",
       "    <tr>\n",
       "      <th>4.00</th>\n",
       "      <td>0.708144</td>\n",
       "      <td>0.700</td>\n",
       "      <td>97</td>\n",
       "    </tr>\n",
       "    <tr>\n",
       "      <th>3.75</th>\n",
       "      <td>0.708500</td>\n",
       "      <td>0.700</td>\n",
       "      <td>210</td>\n",
       "    </tr>\n",
       "    <tr>\n",
       "      <th>3.50</th>\n",
       "      <td>0.711607</td>\n",
       "      <td>0.700</td>\n",
       "      <td>392</td>\n",
       "    </tr>\n",
       "    <tr>\n",
       "      <th>3.25</th>\n",
       "      <td>0.714125</td>\n",
       "      <td>0.700</td>\n",
       "      <td>303</td>\n",
       "    </tr>\n",
       "    <tr>\n",
       "      <th>3.00</th>\n",
       "      <td>0.717742</td>\n",
       "      <td>0.700</td>\n",
       "      <td>341</td>\n",
       "    </tr>\n",
       "    <tr>\n",
       "      <th>2.75</th>\n",
       "      <td>0.721795</td>\n",
       "      <td>0.700</td>\n",
       "      <td>259</td>\n",
       "    </tr>\n",
       "    <tr>\n",
       "      <th>2.50</th>\n",
       "      <td>0.717897</td>\n",
       "      <td>0.710</td>\n",
       "      <td>126</td>\n",
       "    </tr>\n",
       "    <tr>\n",
       "      <th>2.25</th>\n",
       "      <td>0.740000</td>\n",
       "      <td>0.725</td>\n",
       "      <td>14</td>\n",
       "    </tr>\n",
       "    <tr>\n",
       "      <th>2.00</th>\n",
       "      <td>0.766250</td>\n",
       "      <td>0.750</td>\n",
       "      <td>32</td>\n",
       "    </tr>\n",
       "    <tr>\n",
       "      <th>1.75</th>\n",
       "      <td>0.906667</td>\n",
       "      <td>1.000</td>\n",
       "      <td>3</td>\n",
       "    </tr>\n",
       "    <tr>\n",
       "      <th>1.50</th>\n",
       "      <td>0.848000</td>\n",
       "      <td>0.880</td>\n",
       "      <td>10</td>\n",
       "    </tr>\n",
       "    <tr>\n",
       "      <th>1.00</th>\n",
       "      <td>0.782500</td>\n",
       "      <td>0.715</td>\n",
       "      <td>4</td>\n",
       "    </tr>\n",
       "  </tbody>\n",
       "</table>\n",
       "</div>"
      ],
      "text/plain": [
       "            mean  median  count\n",
       "Rating                         \n",
       "5.00    0.700000   0.700      2\n",
       "4.00    0.708144   0.700     97\n",
       "3.75    0.708500   0.700    210\n",
       "3.50    0.711607   0.700    392\n",
       "3.25    0.714125   0.700    303\n",
       "3.00    0.717742   0.700    341\n",
       "2.75    0.721795   0.700    259\n",
       "2.50    0.717897   0.710    126\n",
       "2.25    0.740000   0.725     14\n",
       "2.00    0.766250   0.750     32\n",
       "1.75    0.906667   1.000      3\n",
       "1.50    0.848000   0.880     10\n",
       "1.00    0.782500   0.715      4"
      ]
     },
     "execution_count": 19,
     "metadata": {},
     "output_type": "execute_result"
    }
   ],
   "source": [
    "# Check association between cocoa percentage and rating\n",
    "df.groupby(['Rating']).Cocoa_percent.agg(['mean','median','count']).sort_values(by = 'Rating', ascending = False)"
   ]
  },
  {
   "cell_type": "code",
   "execution_count": 20,
   "id": "0be3a8c1",
   "metadata": {},
   "outputs": [
    {
     "data": {
      "image/png": "[encoded data removed]",
      "text/plain": [
       "<Figure size 432x288 with 1 Axes>"
      ]
     },
     "metadata": {},
     "output_type": "display_data"
    }
   ],
   "source": [
    "# visualize association\n",
    "sns.scatterplot(data = df, x = \"Cocoa_percent\", y = \"Rating\");"
   ]
  },
  {
   "cell_type": "markdown",
   "id": "2070c14d",
   "metadata": {},
   "source": [
    "**Findings**:\n",
    "\n",
    "From the scatter plot above, there is no obvious association between cocoa percentage and rating when cocoa percentage <= 90%. Regardless of rating from premium taste (Rating = 4) to disappointing (Rating = 2), level of cocoa percentage remain the same with mean value around 70%. However, by focusing on chocolate with cocoa percentage >90% in the plot, it is clear that those chocolate, as a whole, received worse ratings.\n",
    "\n",
    "Therefore, we can conclude that higher cocoa percentage has nothing to do with higher rating. In addition, extreme high cocoa percentage (above 90%) would hurt rating. "
   ]
  },
  {
   "cell_type": "markdown",
   "id": "92e1a25a",
   "metadata": {},
   "source": [
    "### Question 2. Which company location has best chocolate rating? "
   ]
  },
  {
   "cell_type": "code",
   "execution_count": 22,
   "id": "2386c433",
   "metadata": {},
   "outputs": [
    {
     "data": {
      "text/html": [
       "<div>\n",
       "<style scoped>\n",
       "    .dataframe tbody tr th:only-of-type {\n",
       "        vertical-align: middle;\n",
       "    }\n",
       "\n",
       "    .dataframe tbody tr th {\n",
       "        vertical-align: top;\n",
       "    }\n",
       "\n",
       "    .dataframe thead th {\n",
       "        text-align: right;\n",
       "    }\n",
       "</style>\n",
       "<table border=\"1\" class=\"dataframe\">\n",
       "  <thead>\n",
       "    <tr style=\"text-align: right;\">\n",
       "      <th></th>\n",
       "      <th>count</th>\n",
       "      <th>pct</th>\n",
       "      <th>cum_pct</th>\n",
       "    </tr>\n",
       "    <tr>\n",
       "      <th>Location</th>\n",
       "      <th></th>\n",
       "      <th></th>\n",
       "      <th></th>\n",
       "    </tr>\n",
       "  </thead>\n",
       "  <tbody>\n",
       "    <tr>\n",
       "      <th>U.S.A.</th>\n",
       "      <td>763</td>\n",
       "      <td>0.425544</td>\n",
       "      <td>0.425544</td>\n",
       "    </tr>\n",
       "    <tr>\n",
       "      <th>France</th>\n",
       "      <td>156</td>\n",
       "      <td>0.087005</td>\n",
       "      <td>0.512549</td>\n",
       "    </tr>\n",
       "    <tr>\n",
       "      <th>Canada</th>\n",
       "      <td>124</td>\n",
       "      <td>0.069158</td>\n",
       "      <td>0.581707</td>\n",
       "    </tr>\n",
       "    <tr>\n",
       "      <th>U.K.</th>\n",
       "      <td>96</td>\n",
       "      <td>0.053542</td>\n",
       "      <td>0.635248</td>\n",
       "    </tr>\n",
       "    <tr>\n",
       "      <th>Italy</th>\n",
       "      <td>63</td>\n",
       "      <td>0.035137</td>\n",
       "      <td>0.670385</td>\n",
       "    </tr>\n",
       "    <tr>\n",
       "      <th>Ecuador</th>\n",
       "      <td>54</td>\n",
       "      <td>0.030117</td>\n",
       "      <td>0.700502</td>\n",
       "    </tr>\n",
       "    <tr>\n",
       "      <th>Australia</th>\n",
       "      <td>49</td>\n",
       "      <td>0.027328</td>\n",
       "      <td>0.727830</td>\n",
       "    </tr>\n",
       "    <tr>\n",
       "      <th>Belgium</th>\n",
       "      <td>40</td>\n",
       "      <td>0.022309</td>\n",
       "      <td>0.750139</td>\n",
       "    </tr>\n",
       "    <tr>\n",
       "      <th>Switzerland</th>\n",
       "      <td>38</td>\n",
       "      <td>0.021194</td>\n",
       "      <td>0.771333</td>\n",
       "    </tr>\n",
       "    <tr>\n",
       "      <th>Germany</th>\n",
       "      <td>35</td>\n",
       "      <td>0.019520</td>\n",
       "      <td>0.790853</td>\n",
       "    </tr>\n",
       "    <tr>\n",
       "      <th>Austria</th>\n",
       "      <td>26</td>\n",
       "      <td>0.014501</td>\n",
       "      <td>0.805354</td>\n",
       "    </tr>\n",
       "    <tr>\n",
       "      <th>Spain</th>\n",
       "      <td>25</td>\n",
       "      <td>0.013943</td>\n",
       "      <td>0.819297</td>\n",
       "    </tr>\n",
       "    <tr>\n",
       "      <th>Colombia</th>\n",
       "      <td>23</td>\n",
       "      <td>0.012828</td>\n",
       "      <td>0.832125</td>\n",
       "    </tr>\n",
       "    <tr>\n",
       "      <th>Hungary</th>\n",
       "      <td>22</td>\n",
       "      <td>0.012270</td>\n",
       "      <td>0.844395</td>\n",
       "    </tr>\n",
       "    <tr>\n",
       "      <th>Venezuela</th>\n",
       "      <td>20</td>\n",
       "      <td>0.011154</td>\n",
       "      <td>0.855549</td>\n",
       "    </tr>\n",
       "  </tbody>\n",
       "</table>\n",
       "</div>"
      ],
      "text/plain": [
       "             count       pct   cum_pct\n",
       "Location                              \n",
       "U.S.A.         763  0.425544  0.425544\n",
       "France         156  0.087005  0.512549\n",
       "Canada         124  0.069158  0.581707\n",
       "U.K.            96  0.053542  0.635248\n",
       "Italy           63  0.035137  0.670385\n",
       "Ecuador         54  0.030117  0.700502\n",
       "Australia       49  0.027328  0.727830\n",
       "Belgium         40  0.022309  0.750139\n",
       "Switzerland     38  0.021194  0.771333\n",
       "Germany         35  0.019520  0.790853\n",
       "Austria         26  0.014501  0.805354\n",
       "Spain           25  0.013943  0.819297\n",
       "Colombia        23  0.012828  0.832125\n",
       "Hungary         22  0.012270  0.844395\n",
       "Venezuela       20  0.011154  0.855549"
      ]
     },
     "execution_count": 22,
     "metadata": {},
     "output_type": "execute_result"
    }
   ],
   "source": [
    "# take a look at company location distribution\n",
    "tmp1 = df.groupby(['Location']).Rating.agg(['count']).sort_values(by = 'count', ascending = False)\n",
    "tmp1['pct'] = tmp1['count'] / len(df)\n",
    "tmp1['cum_pct'] = tmp1['pct'].cumsum()\n",
    "tmp1[:15]"
   ]
  },
  {
   "cell_type": "markdown",
   "id": "f75b8652",
   "metadata": {},
   "source": [
    "Among 60 countries (**Location**), 15 countries account for 85% of total records. Our analysis will focus on those countries with these countries, i.e., countires with record count >= 20."
   ]
  },
  {
   "cell_type": "code",
   "execution_count": 23,
   "id": "1c1bd40c",
   "metadata": {},
   "outputs": [],
   "source": [
    "# get rid of non representative data\n",
    "flt = df.groupby(['Location']).filter(lambda x: len(x) >= 20)"
   ]
  },
  {
   "cell_type": "code",
   "execution_count": 24,
   "id": "f4e12ef0",
   "metadata": {},
   "outputs": [
    {
     "data": {
      "text/html": [
       "<div>\n",
       "<style scoped>\n",
       "    .dataframe tbody tr th:only-of-type {\n",
       "        vertical-align: middle;\n",
       "    }\n",
       "\n",
       "    .dataframe tbody tr th {\n",
       "        vertical-align: top;\n",
       "    }\n",
       "\n",
       "    .dataframe thead th {\n",
       "        text-align: right;\n",
       "    }\n",
       "</style>\n",
       "<table border=\"1\" class=\"dataframe\">\n",
       "  <thead>\n",
       "    <tr style=\"text-align: right;\">\n",
       "      <th></th>\n",
       "      <th>Rating</th>\n",
       "      <th>Cocoa_percent</th>\n",
       "    </tr>\n",
       "    <tr>\n",
       "      <th>Location</th>\n",
       "      <th></th>\n",
       "      <th></th>\n",
       "    </tr>\n",
       "  </thead>\n",
       "  <tbody>\n",
       "    <tr>\n",
       "      <th>Australia</th>\n",
       "      <td>3.357143</td>\n",
       "      <td>0.702245</td>\n",
       "    </tr>\n",
       "    <tr>\n",
       "      <th>Switzerland</th>\n",
       "      <td>3.342105</td>\n",
       "      <td>0.712105</td>\n",
       "    </tr>\n",
       "    <tr>\n",
       "      <th>Italy</th>\n",
       "      <td>3.325397</td>\n",
       "      <td>0.711905</td>\n",
       "    </tr>\n",
       "    <tr>\n",
       "      <th>Canada</th>\n",
       "      <td>3.318548</td>\n",
       "      <td>0.723710</td>\n",
       "    </tr>\n",
       "    <tr>\n",
       "      <th>Spain</th>\n",
       "      <td>3.270000</td>\n",
       "      <td>0.728800</td>\n",
       "    </tr>\n",
       "    <tr>\n",
       "      <th>France</th>\n",
       "      <td>3.251603</td>\n",
       "      <td>0.717628</td>\n",
       "    </tr>\n",
       "    <tr>\n",
       "      <th>Austria</th>\n",
       "      <td>3.240385</td>\n",
       "      <td>0.720000</td>\n",
       "    </tr>\n",
       "    <tr>\n",
       "      <th>Hungary</th>\n",
       "      <td>3.204545</td>\n",
       "      <td>0.723182</td>\n",
       "    </tr>\n",
       "    <tr>\n",
       "      <th>Germany</th>\n",
       "      <td>3.178571</td>\n",
       "      <td>0.729429</td>\n",
       "    </tr>\n",
       "    <tr>\n",
       "      <th>Venezuela</th>\n",
       "      <td>3.175000</td>\n",
       "      <td>0.691750</td>\n",
       "    </tr>\n",
       "    <tr>\n",
       "      <th>Colombia</th>\n",
       "      <td>3.173913</td>\n",
       "      <td>0.657391</td>\n",
       "    </tr>\n",
       "    <tr>\n",
       "      <th>U.S.A.</th>\n",
       "      <td>3.154980</td>\n",
       "      <td>0.715170</td>\n",
       "    </tr>\n",
       "    <tr>\n",
       "      <th>Belgium</th>\n",
       "      <td>3.093750</td>\n",
       "      <td>0.720250</td>\n",
       "    </tr>\n",
       "    <tr>\n",
       "      <th>U.K.</th>\n",
       "      <td>3.054688</td>\n",
       "      <td>0.744479</td>\n",
       "    </tr>\n",
       "    <tr>\n",
       "      <th>Ecuador</th>\n",
       "      <td>3.009259</td>\n",
       "      <td>0.723333</td>\n",
       "    </tr>\n",
       "  </tbody>\n",
       "</table>\n",
       "</div>"
      ],
      "text/plain": [
       "               Rating  Cocoa_percent\n",
       "Location                            \n",
       "Australia    3.357143       0.702245\n",
       "Switzerland  3.342105       0.712105\n",
       "Italy        3.325397       0.711905\n",
       "Canada       3.318548       0.723710\n",
       "Spain        3.270000       0.728800\n",
       "France       3.251603       0.717628\n",
       "Austria      3.240385       0.720000\n",
       "Hungary      3.204545       0.723182\n",
       "Germany      3.178571       0.729429\n",
       "Venezuela    3.175000       0.691750\n",
       "Colombia     3.173913       0.657391\n",
       "U.S.A.       3.154980       0.715170\n",
       "Belgium      3.093750       0.720250\n",
       "U.K.         3.054688       0.744479\n",
       "Ecuador      3.009259       0.723333"
      ]
     },
     "execution_count": 24,
     "metadata": {},
     "output_type": "execute_result"
    }
   ],
   "source": [
    "# summarize average rating across locations, sort by average rating.\n",
    "# ** in case rating is affected by cocoa percentage(not the case from Question 1 though), summarize cocoa_percent as well.\n",
    "rank = flt.groupby(['Location'])[['Rating','Cocoa_percent']].mean().sort_values(by = 'Rating', ascending = False)\n",
    "rank"
   ]
  },
  {
   "cell_type": "code",
   "execution_count": 25,
   "id": "99ff0efc",
   "metadata": {},
   "outputs": [
    {
     "data": {
      "image/png": "[encoded data removed]",
      "text/plain": [
       "<Figure size 432x432 with 1 Axes>"
      ]
     },
     "metadata": {},
     "output_type": "display_data"
    }
   ],
   "source": [
    "# visualize findings\n",
    "f, ax = plt.subplots(figsize = (6, 6))\n",
    "\n",
    "sns.set_color_codes(\"pastel\")\n",
    "sns.barplot(x = \"Rating\", y = rank.index, data = rank,\n",
    "            label = \"Rating\", color = \"b\")\n",
    "\n",
    "sns.set_color_codes(\"muted\")\n",
    "sns.barplot(x = \"Cocoa_percent\", y = rank.index, data=rank,\n",
    "            label = \"Cocoa Percent\", color = \"b\")\n",
    "\n",
    "ax.legend(ncol = 2, loc = \"lower right\", frameon = True)\n",
    "ax.set(xlim = (0, 4), ylabel = \"\",\n",
    "       xlabel = \"Chocolate Rating and Cocoa Percentage, by Company Location\")\n",
    "sns.despine(left = True, bottom = True)"
   ]
  },
  {
   "cell_type": "markdown",
   "id": "fa4059b1",
   "metadata": {},
   "source": [
    "**Findings**\n",
    "\n",
    "From the summarized data and barplot, we can see the top 3 company locations for best rating chocolate are:  \n",
    "  1. Australia  \n",
    "  2. Switzerland  \n",
    "  3. Italy.   \n",
    "\n",
    "Additionaly:\n",
    "* By visually comparing rating and cocoa percent, we can conclude again for question 1 that percentage of cocoa has nothing to do with rating. \n",
    "* For this question, due to data scacity, we use more representative data by excluding company locations that have less than 20 data entries. If more data is available, further analysis can be done by summarizing average rating across countries given similar bean types or broad regions of bean."
   ]
  },
  {
   "cell_type": "markdown",
   "id": "9ee03e1e",
   "metadata": {},
   "source": [
    "### Question 3: Which types of bean produce highest rating chocolate?"
   ]
  },
  {
   "cell_type": "code",
   "execution_count": 26,
   "id": "a4537591",
   "metadata": {},
   "outputs": [],
   "source": [
    "# clean data, remove records with void value.\n",
    "df_bean = df[df['Bean_type'].str.strip() != '']    "
   ]
  },
  {
   "cell_type": "code",
   "execution_count": 27,
   "id": "fa3d6828",
   "metadata": {},
   "outputs": [
    {
     "data": {
      "text/html": [
       "<div>\n",
       "<style scoped>\n",
       "    .dataframe tbody tr th:only-of-type {\n",
       "        vertical-align: middle;\n",
       "    }\n",
       "\n",
       "    .dataframe tbody tr th {\n",
       "        vertical-align: top;\n",
       "    }\n",
       "\n",
       "    .dataframe thead th {\n",
       "        text-align: right;\n",
       "    }\n",
       "</style>\n",
       "<table border=\"1\" class=\"dataframe\">\n",
       "  <thead>\n",
       "    <tr style=\"text-align: right;\">\n",
       "      <th></th>\n",
       "      <th>count</th>\n",
       "      <th>pct</th>\n",
       "      <th>cum_pct</th>\n",
       "    </tr>\n",
       "    <tr>\n",
       "      <th>Bean_type</th>\n",
       "      <th></th>\n",
       "      <th></th>\n",
       "      <th></th>\n",
       "    </tr>\n",
       "  </thead>\n",
       "  <tbody>\n",
       "    <tr>\n",
       "      <th>Trinitario</th>\n",
       "      <td>418</td>\n",
       "      <td>0.461369</td>\n",
       "      <td>0.461369</td>\n",
       "    </tr>\n",
       "    <tr>\n",
       "      <th>Criollo</th>\n",
       "      <td>153</td>\n",
       "      <td>0.168874</td>\n",
       "      <td>0.630243</td>\n",
       "    </tr>\n",
       "    <tr>\n",
       "      <th>Forastero</th>\n",
       "      <td>87</td>\n",
       "      <td>0.096026</td>\n",
       "      <td>0.726269</td>\n",
       "    </tr>\n",
       "    <tr>\n",
       "      <th>Forastero (Nacional)</th>\n",
       "      <td>52</td>\n",
       "      <td>0.057395</td>\n",
       "      <td>0.783664</td>\n",
       "    </tr>\n",
       "    <tr>\n",
       "      <th>Blend</th>\n",
       "      <td>41</td>\n",
       "      <td>0.045254</td>\n",
       "      <td>0.828918</td>\n",
       "    </tr>\n",
       "    <tr>\n",
       "      <th>Criollo, Trinitario</th>\n",
       "      <td>39</td>\n",
       "      <td>0.043046</td>\n",
       "      <td>0.871965</td>\n",
       "    </tr>\n",
       "    <tr>\n",
       "      <th>Forastero (Arriba)</th>\n",
       "      <td>37</td>\n",
       "      <td>0.040839</td>\n",
       "      <td>0.912804</td>\n",
       "    </tr>\n",
       "    <tr>\n",
       "      <th>Criollo (Porcelana)</th>\n",
       "      <td>10</td>\n",
       "      <td>0.011038</td>\n",
       "      <td>0.923841</td>\n",
       "    </tr>\n",
       "    <tr>\n",
       "      <th>Trinitario, Criollo</th>\n",
       "      <td>9</td>\n",
       "      <td>0.009934</td>\n",
       "      <td>0.933775</td>\n",
       "    </tr>\n",
       "    <tr>\n",
       "      <th>Forastero (Parazinho)</th>\n",
       "      <td>8</td>\n",
       "      <td>0.008830</td>\n",
       "      <td>0.942605</td>\n",
       "    </tr>\n",
       "  </tbody>\n",
       "</table>\n",
       "</div>"
      ],
      "text/plain": [
       "                       count       pct   cum_pct\n",
       "Bean_type                                       \n",
       "Trinitario               418  0.461369  0.461369\n",
       "Criollo                  153  0.168874  0.630243\n",
       "Forastero                 87  0.096026  0.726269\n",
       "Forastero (Nacional)      52  0.057395  0.783664\n",
       "Blend                     41  0.045254  0.828918\n",
       "Criollo, Trinitario       39  0.043046  0.871965\n",
       "Forastero (Arriba)        37  0.040839  0.912804\n",
       "Criollo (Porcelana)       10  0.011038  0.923841\n",
       "Trinitario, Criollo        9  0.009934  0.933775\n",
       "Forastero (Parazinho)      8  0.008830  0.942605"
      ]
     },
     "execution_count": 27,
     "metadata": {},
     "output_type": "execute_result"
    }
   ],
   "source": [
    "# Take a look bean type distribution\n",
    "tmp2 = df_bean.groupby('Bean_type').Rating.agg(['count']).sort_values(by = 'count', ascending = False)\n",
    "tmp2['pct'] = tmp2['count'] / len(df_bean)\n",
    "tmp2['cum_pct'] = tmp2['pct'].cumsum()\n",
    "tmp2[:10]"
   ]
  },
  {
   "cell_type": "code",
   "execution_count": 28,
   "id": "08646d0a",
   "metadata": {},
   "outputs": [
    {
     "data": {
      "text/plain": [
       "40"
      ]
     },
     "execution_count": 28,
     "metadata": {},
     "output_type": "execute_result"
    }
   ],
   "source": [
    "df_bean.Bean_type.nunique()"
   ]
  },
  {
   "cell_type": "markdown",
   "id": "e14c18f1",
   "metadata": {},
   "source": [
    "Among 40 cocoa bean types, 10 cocoa bean types ccount for 94.2% of total records. Due to data scarity, our analysis will focus on those 10 cocoa bean types."
   ]
  },
  {
   "cell_type": "code",
   "execution_count": 29,
   "id": "6dfaa039",
   "metadata": {},
   "outputs": [
    {
     "data": {
      "text/plain": [
       "10"
      ]
     },
     "execution_count": 29,
     "metadata": {},
     "output_type": "execute_result"
    }
   ],
   "source": [
    "# Filter dataset to only include top 10 occurance beans\n",
    "df_bean_flt = df_bean.groupby(['Bean_type']).filter(lambda x: len(x) >= 8)\n",
    "df_bean_flt.Bean_type.nunique()"
   ]
  },
  {
   "cell_type": "code",
   "execution_count": 30,
   "id": "696fd3b5",
   "metadata": {},
   "outputs": [
    {
     "data": {
      "text/plain": [
       "(854, 9)"
      ]
     },
     "execution_count": 30,
     "metadata": {},
     "output_type": "execute_result"
    }
   ],
   "source": [
    "# check shape\n",
    "df_bean_flt.shape"
   ]
  },
  {
   "cell_type": "code",
   "execution_count": 31,
   "id": "fe2c388c",
   "metadata": {},
   "outputs": [
    {
     "data": {
      "text/html": [
       "<div>\n",
       "<style scoped>\n",
       "    .dataframe tbody tr th:only-of-type {\n",
       "        vertical-align: middle;\n",
       "    }\n",
       "\n",
       "    .dataframe tbody tr th {\n",
       "        vertical-align: top;\n",
       "    }\n",
       "\n",
       "    .dataframe thead th {\n",
       "        text-align: right;\n",
       "    }\n",
       "</style>\n",
       "<table border=\"1\" class=\"dataframe\">\n",
       "  <thead>\n",
       "    <tr style=\"text-align: right;\">\n",
       "      <th></th>\n",
       "      <th>Rating</th>\n",
       "      <th>Cnt</th>\n",
       "    </tr>\n",
       "    <tr>\n",
       "      <th>Bean_type</th>\n",
       "      <th></th>\n",
       "      <th></th>\n",
       "    </tr>\n",
       "  </thead>\n",
       "  <tbody>\n",
       "    <tr>\n",
       "      <th>Forastero (Parazinho)</th>\n",
       "      <td>3.531250</td>\n",
       "      <td>8</td>\n",
       "    </tr>\n",
       "    <tr>\n",
       "      <th>Criollo (Porcelana)</th>\n",
       "      <td>3.375000</td>\n",
       "      <td>10</td>\n",
       "    </tr>\n",
       "    <tr>\n",
       "      <th>Blend</th>\n",
       "      <td>3.353659</td>\n",
       "      <td>41</td>\n",
       "    </tr>\n",
       "    <tr>\n",
       "      <th>Criollo, Trinitario</th>\n",
       "      <td>3.294872</td>\n",
       "      <td>39</td>\n",
       "    </tr>\n",
       "    <tr>\n",
       "      <th>Forastero (Nacional)</th>\n",
       "      <td>3.269231</td>\n",
       "      <td>52</td>\n",
       "    </tr>\n",
       "    <tr>\n",
       "      <th>Trinitario</th>\n",
       "      <td>3.247608</td>\n",
       "      <td>418</td>\n",
       "    </tr>\n",
       "    <tr>\n",
       "      <th>Criollo</th>\n",
       "      <td>3.240196</td>\n",
       "      <td>153</td>\n",
       "    </tr>\n",
       "    <tr>\n",
       "      <th>Forastero</th>\n",
       "      <td>3.100575</td>\n",
       "      <td>87</td>\n",
       "    </tr>\n",
       "    <tr>\n",
       "      <th>Trinitario, Criollo</th>\n",
       "      <td>3.027778</td>\n",
       "      <td>9</td>\n",
       "    </tr>\n",
       "    <tr>\n",
       "      <th>Forastero (Arriba)</th>\n",
       "      <td>2.831081</td>\n",
       "      <td>37</td>\n",
       "    </tr>\n",
       "  </tbody>\n",
       "</table>\n",
       "</div>"
      ],
      "text/plain": [
       "                         Rating  Cnt\n",
       "Bean_type                           \n",
       "Forastero (Parazinho)  3.531250    8\n",
       "Criollo (Porcelana)    3.375000   10\n",
       "Blend                  3.353659   41\n",
       "Criollo, Trinitario    3.294872   39\n",
       "Forastero (Nacional)   3.269231   52\n",
       "Trinitario             3.247608  418\n",
       "Criollo                3.240196  153\n",
       "Forastero              3.100575   87\n",
       "Trinitario, Criollo    3.027778    9\n",
       "Forastero (Arriba)     2.831081   37"
      ]
     },
     "execution_count": 31,
     "metadata": {},
     "output_type": "execute_result"
    }
   ],
   "source": [
    "# Rank top 10 beans by average rating\n",
    "result = df_bean_flt.groupby('Bean_type').agg({'Rating': 'mean', 'Company':'count'})\n",
    "result.rename(columns={'Company': 'Cnt'},inplace=True)\n",
    "result = result.sort_values(by = 'Rating', ascending = False)\n",
    "result"
   ]
  },
  {
   "cell_type": "code",
   "execution_count": 32,
   "id": "8734b651",
   "metadata": {},
   "outputs": [
    {
     "data": {
      "image/png": "[encoded data removed]",
      "text/plain": [
       "<Figure size 432x288 with 1 Axes>"
      ]
     },
     "metadata": {},
     "output_type": "display_data"
    }
   ],
   "source": [
    "# visualize finding\n",
    "sns.barplot(x = \"Rating\", y = result.index, data = result,\n",
    "            label = \"Rating\", color = \"b\");"
   ]
  },
  {
   "cell_type": "markdown",
   "id": "7f57a7cc",
   "metadata": {},
   "source": [
    "**Findings**\n",
    "\n",
    "From the summarized data and barplot, we can see the top 3 cocoa beans that produce best rating chocolate are:  \n",
    "  1. Forastero (Parazinho) \n",
    "  2. Criollo (Porcelana)\n",
    "  3. Blend"
   ]
  },
  {
   "cell_type": "markdown",
   "id": "1f6926e1",
   "metadata": {},
   "source": [
    "## Reference"
   ]
  },
  {
   "cell_type": "markdown",
   "id": "5050f061",
   "metadata": {},
   "source": [
    "https://seaborn.pydata.org/generated/seaborn.boxplot.html\n",
    "\n",
    "https://seaborn.pydata.org/examples/part_whole_bars.html\n",
    "\n",
    "https://sqlbak.com/blog/jupyter-notebook-markdown-cheatsheet\n",
    "\n",
    "https://github.com/stephanieirvine/Udacity-Data-Scientist-Nanodegree/blob/main/Project%201/Wine_Rating_StephIrvine.ipynb Thanks Stephanie for inspiring me on the structure of this post :P"
   ]
  }
 ],
 "metadata": {
  "kernelspec": {
   "display_name": "Python 3 (ipykernel)",
   "language": "python",
   "name": "python3"
  },
  "language_info": {
   "codemirror_mode": {
    "name": "ipython",
    "version": 3
   },
   "file_extension": ".py",
   "mimetype": "text/x-python",
   "name": "python",
   "nbconvert_exporter": "python",
   "pygments_lexer": "ipython3",
   "version": "3.9.7"
  }
 },
 "nbformat": 4,
 "nbformat_minor": 5
}
